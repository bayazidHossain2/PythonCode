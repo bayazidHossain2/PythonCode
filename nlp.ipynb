{
 "cells": [
  {
   "cell_type": "markdown",
   "metadata": {},
   "source": [
    "# Load Data"
   ]
  },
  {
   "cell_type": "code",
   "execution_count": null,
   "metadata": {},
   "outputs": [],
   "source": [
    "file = open('royel_data.txt', 'r')\n",
    "royel_data = file.readlines()\n",
    "file.close()\n",
    "print(royel_data)"
   ]
  },
  {
   "cell_type": "code",
   "execution_count": null,
   "metadata": {},
   "outputs": [],
   "source": [
    "royel_data = [sentance.lower().replace('\\n', '') for sentance in royel_data]\n",
    "\n",
    "print(royel_data)"
   ]
  },
  {
   "cell_type": "markdown",
   "metadata": {},
   "source": [
    "# Remove stop words and tokenize"
   ]
  },
  {
   "cell_type": "code",
   "execution_count": null,
   "metadata": {},
   "outputs": [],
   "source": [
    "stopwords = ['the', 'is', 'are', 'can', 'will', 'be', 'a', 'only', 'their', 'now', 'and', 'at', 'it']\n",
    "\n",
    "filter_data = []\n",
    "for sent in royel_data:\n",
    "    temp = []\n",
    "    for word in sent.split():\n",
    "        if word not in stopwords:\n",
    "            temp.append(word)\n",
    "    filter_data.append(temp)\n"
   ]
  },
  {
   "cell_type": "markdown",
   "metadata": {},
   "source": [
    "# Creating Bigrams"
   ]
  },
  {
   "cell_type": "code",
   "execution_count": null,
   "metadata": {},
   "outputs": [],
   "source": [
    "bigrams = []\n",
    "\n",
    "for words_list in filter_data:\n",
    "    for i in range(len(words_list)-1):\n",
    "        for j in range(i+1, len(words_list)):\n",
    "            bigrams.append([words_list[i], words_list[j]])\n",
    "            bigrams.append([words_list[j], words_list[i]])"
   ]
  },
  {
   "cell_type": "markdown",
   "metadata": {},
   "source": [
    "# Vocabulary"
   ]
  },
  {
   "cell_type": "code",
   "execution_count": null,
   "metadata": {},
   "outputs": [],
   "source": [
    "all_words = []\n",
    "\n",
    "for sent in filter_data:\n",
    "    all_words.extend(sent)\n",
    "\n",
    "all_words = list(set(all_words))\n",
    "all_words.sort()\n",
    "\n",
    "print(all_words)\n",
    "print(len(all_words))"
   ]
  },
  {
   "cell_type": "markdown",
   "metadata": {},
   "source": [
    "# One-hot encoding"
   ]
  },
  {
   "cell_type": "code",
   "execution_count": null,
   "metadata": {},
   "outputs": [],
   "source": [
    "words_dic = {}\n",
    "\n",
    "counter =0\n",
    "for word in all_words:\n",
    "    words_dic[word]=counter\n",
    "    counter += 1\n",
    "\n",
    "print(words_dic)"
   ]
  },
  {
   "cell_type": "code",
   "execution_count": null,
   "metadata": {},
   "outputs": [],
   "source": [
    "import numpy as np \n",
    "\n",
    "onehot_data = np.zeros((len(all_words), len(all_words)))\n",
    "\n",
    "for i in range(len(all_words)):\n",
    "    onehot_data[i][i]=1\n",
    "\n",
    "print(onehot_data)\n",
    "\n",
    "onehot_dic = {}\n",
    "\n",
    "for i in range(len(all_words)):\n",
    "    onehot_dic[all_words[i]] = onehot_data[i]\n",
    "\n",
    "for word in onehot_dic:\n",
    "    print(word, \" : \", onehot_dic[word])"
   ]
  },
  {
   "cell_type": "code",
   "execution_count": null,
   "metadata": {},
   "outputs": [],
   "source": [
    "x = []\n",
    "y = []\n",
    "\n",
    "for bi in bigrams:\n",
    "    x.append(onehot_dic[bi[0]])\n",
    "    y.append(onehot_dic[bi[1]])\n",
    "\n",
    "x = np.array(x)\n",
    "y = np.array(y)\n",
    "\n"
   ]
  },
  {
   "cell_type": "markdown",
   "metadata": {},
   "source": [
    "# Model"
   ]
  },
  {
   "cell_type": "code",
   "execution_count": null,
   "metadata": {},
   "outputs": [],
   "source": [
    "from keras.models import Sequential\n",
    "from keras.layers import Dense, Input\n",
    "\n",
    "model = Sequential()\n",
    "\n",
    "model.add(Input(shape ))"
   ]
  }
 ],
 "metadata": {
  "language_info": {
   "name": "python"
  }
 },
 "nbformat": 4,
 "nbformat_minor": 2
}
